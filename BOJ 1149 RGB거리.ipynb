{
 "cells": [
  {
   "cell_type": "markdown",
   "metadata": {},
   "source": [
    "https://www.acmicpc.net/problem/1149\n",
    "\n",
    "i번째 집의 색이 i-1번째, i+1번째 집의 색과 달라야 하므로 greedy가 아닌 DP로 접근해야 한다\n",
    "\n",
    "r을 선택하는 경우, g를 선택하는 경우, b를 선택하는 경우, 이렇게 세 가지 경우의 수를 나눠 선택지들을 기록한다.\n",
    "\n",
    "DP = (r, g, b)를 선택하는 경우 + min(마지막 선택이 (g, b, r)인 경우, 마지막 선택이 (b, r, g)인 경우)\n",
    "\n",
    "모든 집을 칠하는 비용의 최솟값 = min(DP[-1])"
   ]
  },
  {
   "cell_type": "code",
   "execution_count": 3,
   "metadata": {},
   "outputs": [
    {
     "name": "stdout",
     "output_type": "stream",
     "text": [
      "3\n",
      "26 40 83\n",
      "49 60 57\n",
      "13 89 99\n",
      "[[26, 40, 83], [49, 60, 57], [13, 89, 99]]\n"
     ]
    }
   ],
   "source": [
    "'''\n",
    "DP = [DP[r], DP[g], DP[b]]\n",
    "DP[r] = min(DP[g], DP[b]) + input[r]\n",
    "DP[g] = min(DP[r], DP[b]) + input[g]\n",
    "DP[b] = min(DP[r], DP[g]) + input[b]\n",
    "\n",
    "min(DP[-1])\n",
    "'''\n",
    "\n",
    "n = int(input())\n",
    "\n",
    "inputs = []\n",
    "for i in range(n):\n",
    "    inputs.append([int(x) for x in input().split()])\n",
    "    \n",
    "DP = [[] for _ in range(n)]\n",
    "DP[0] = inputs[0]\n",
    "\n",
    "for i in range(1, n):\n",
    "    DP[i] = [\n",
    "        min(DP[i-1][1], DP[i-1][2]) + inputs[i][0],\n",
    "        min(DP[i-1][0], DP[i-1][2]) + inputs[i][1],\n",
    "        min(DP[i-1][0], DP[i-1][1]) + inputs[i][2]\n",
    "    ]\n",
    "    \n",
    "print(min(DP[-1]))"
   ]
  },
  {
   "cell_type": "code",
   "execution_count": null,
   "metadata": {},
   "outputs": [],
   "source": []
  }
 ],
 "metadata": {
  "kernelspec": {
   "display_name": "Python 3",
   "language": "python",
   "name": "python3"
  },
  "language_info": {
   "codemirror_mode": {
    "name": "ipython",
    "version": 3
   },
   "file_extension": ".py",
   "mimetype": "text/x-python",
   "name": "python",
   "nbconvert_exporter": "python",
   "pygments_lexer": "ipython3",
   "version": "3.8.5"
  }
 },
 "nbformat": 4,
 "nbformat_minor": 4
}
